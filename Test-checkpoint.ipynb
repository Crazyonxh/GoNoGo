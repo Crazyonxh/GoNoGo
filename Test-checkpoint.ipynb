{
 "cells": [
  {
   "cell_type": "code",
   "execution_count": 32,
   "metadata": {},
   "outputs": [],
   "source": [
    "import serial\n",
    "import serial.tools.list_ports\n",
    "class Ser:\n",
    "    def __init__(self):\n",
    "        self.buffer = ''\n",
    "\n",
    "    def list_ports(self):\n",
    "        self.ports = list(serial.tools.list_ports.comports())\n",
    "        self.ports = [port.device for port in self.ports if port.description == 'USB Serial']\n",
    "        return self.ports\n",
    "    \n",
    "    def build_connection(self, port = None, baud = 9600):\n",
    "        if not port:\n",
    "            port = self.list_ports()[0]\n",
    "            if not port: return -1 # error: serial not connected\n",
    "        self.ser = serial.Serial(port ,baud, timeout=.1)\n",
    "        return self.ser\n",
    "    \n",
    "    def send(self,s):\n",
    "        self.ser.write(str.encode(s+'\\r\\n'))\n",
    "\n",
    "    def send_config(self,trail_number,dic):\n",
    "        data = [trail_number] + list(dic.values())\n",
    "        data = [str(d) for d in data]\n",
    "        string = ','.join(data)\n",
    "        string = 'c' + string + '\\r\\n'\n",
    "#         self.ser.write(string)\n",
    "        print(string)\n",
    "    \n",
    "    def recv(self):\n",
    "        if self.ser.in_waiting:\n",
    "            data = self.ser.read(self.ser.in_waiting).decode('gbk')\n",
    "            data = self.buffer + data\n",
    "            lines = data.split('\\r\\n')\n",
    "            try:\n",
    "                self.buffer = lines[-1] # 最后分割的一定是不完整的，暂时储存到buffer里\n",
    "            except:\n",
    "                self.buffer = ''\n",
    "            lines = lines[:-1]\n",
    "            return lines \n",
    "        else:\n",
    "            return None"
   ]
  },
  {
   "cell_type": "code",
   "execution_count": 33,
   "metadata": {},
   "outputs": [
    {
     "data": {
      "text/plain": [
       "Serial<id=0x7fc7f0633ac0, open=True>(port='/dev/cu.usbserial-14120', baudrate=9600, bytesize=8, parity='N', stopbits=1, timeout=0.1, xonxoff=False, rtscts=False, dsrdtr=False)"
      ]
     },
     "execution_count": 33,
     "metadata": {},
     "output_type": "execute_result"
    }
   ],
   "source": [
    "ser = Ser()\n",
    "ser.build_connection()"
   ]
  },
  {
   "cell_type": "code",
   "execution_count": 34,
   "metadata": {},
   "outputs": [],
   "source": [
    "ser.send('swo')"
   ]
  },
  {
   "cell_type": "code",
   "execution_count": 35,
   "metadata": {},
   "outputs": [
    {
     "data": {
      "text/plain": [
       "['abcd', '']"
      ]
     },
     "execution_count": 35,
     "metadata": {},
     "output_type": "execute_result"
    }
   ],
   "source": [
    "'abcd\\r\\n'.split('\\r\\n')"
   ]
  },
  {
   "cell_type": "code",
   "execution_count": 38,
   "metadata": {},
   "outputs": [],
   "source": [
    "ser.recv()"
   ]
  },
  {
   "cell_type": "code",
   "execution_count": 25,
   "metadata": {},
   "outputs": [],
   "source": [
    "import json\n",
    "with open('config.txt','r') as f:\n",
    "    dic = json.load(f)"
   ]
  },
  {
   "cell_type": "code",
   "execution_count": 12,
   "metadata": {},
   "outputs": [],
   "source": [
    "dic = {\"headTailDuration\": 5000, \"soundDelay\": 500, \"timeWindowDelay\": 2000, \"timeWindowDuration\": 2000, \"soundDuration\": 500, \"waterDuration\": 300}"
   ]
  },
  {
   "cell_type": "code",
   "execution_count": 15,
   "metadata": {},
   "outputs": [
    {
     "data": {
      "text/plain": [
       "[5000, 500, 2000, 2000, 500, 300]"
      ]
     },
     "execution_count": 15,
     "metadata": {},
     "output_type": "execute_result"
    }
   ],
   "source": [
    "list(dic.values())"
   ]
  },
  {
   "cell_type": "code",
   "execution_count": 2,
   "metadata": {},
   "outputs": [
    {
     "data": {
      "text/plain": [
       "Serial<id=0x7fb4104a2070, open=True>(port='/dev/cu.usbserial-14120', baudrate=9600, bytesize=8, parity='N', stopbits=1, timeout=5, xonxoff=False, rtscts=False, dsrdtr=False)"
      ]
     },
     "execution_count": 2,
     "metadata": {},
     "output_type": "execute_result"
    }
   ],
   "source": [
    "ser = Ser()\n",
    "ser.build_connection()"
   ]
  }
 ],
 "metadata": {
  "kernelspec": {
   "display_name": "Python 3",
   "language": "python",
   "name": "python3"
  },
  "language_info": {
   "codemirror_mode": {
    "name": "ipython",
    "version": 3
   },
   "file_extension": ".py",
   "mimetype": "text/x-python",
   "name": "python",
   "nbconvert_exporter": "python",
   "pygments_lexer": "ipython3",
   "version": "3.8.3"
  }
 },
 "nbformat": 4,
 "nbformat_minor": 4
}
